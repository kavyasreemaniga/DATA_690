{
  "nbformat": 4,
  "nbformat_minor": 0,
  "metadata": {
    "colab": {
      "provenance": [],
      "authorship_tag": "ABX9TyPz3lrA4zHjkY7zWK5BLyBq",
      "include_colab_link": true
    },
    "kernelspec": {
      "name": "python3",
      "display_name": "Python 3"
    },
    "language_info": {
      "name": "python"
    }
  },
  "cells": [
    {
      "cell_type": "markdown",
      "metadata": {
        "id": "view-in-github",
        "colab_type": "text"
      },
      "source": [
        "<a href=\"https://colab.research.google.com/github/kavyasreemaniga/DATA_690/blob/main/assignment_03.ipynb\" target=\"_parent\"><img src=\"https://colab.research.google.com/assets/colab-badge.svg\" alt=\"Open In Colab\"/></a>"
      ]
    },
    {
      "cell_type": "markdown",
      "source": [
        "## Assignment 3"
      ],
      "metadata": {
        "id": "GOUHZI4H5PWa"
      }
    },
    {
      "cell_type": "markdown",
      "source": [
        "Write a program that generates 100 random integers between 0 and 9."
      ],
      "metadata": {
        "id": "DhHKKIyR5bES"
      }
    },
    {
      "cell_type": "markdown",
      "source": [
        "1. Print them in a 10 by 10 matrix neatly arranged like the following (one space between each number):\n",
        "\n"
      ],
      "metadata": {
        "id": "Avc--HtV5kXq"
      }
    },
    {
      "cell_type": "code",
      "source": [
        "import random"
      ],
      "metadata": {
        "id": "pw201i4l5pHk"
      },
      "execution_count": null,
      "outputs": []
    },
    {
      "cell_type": "code",
      "source": [
        "ran_num = []\n",
        "\n",
        "for i in range(100):\n",
        "  ran_num.append(random.randint(0,9))\n",
        "\n",
        "count=0\n",
        "for i in range(10):\n",
        "    for j in range(10):\n",
        "        print(ran_num[count],\"\", end =\"\")\n",
        "        count+=1\n",
        "    print(\"\\n\")"
      ],
      "metadata": {
        "colab": {
          "base_uri": "https://localhost:8080/"
        },
        "id": "XaF2OriA514v",
        "outputId": "3aca3be0-f395-468b-d176-60538436e333"
      },
      "execution_count": null,
      "outputs": [
        {
          "output_type": "stream",
          "name": "stdout",
          "text": [
            "2 7 0 3 5 5 4 7 6 2 \n",
            "\n",
            "0 3 5 6 5 4 3 3 3 6 \n",
            "\n",
            "1 5 9 6 3 1 6 7 5 1 \n",
            "\n",
            "2 7 8 6 9 0 5 4 3 3 \n",
            "\n",
            "7 9 9 1 0 7 1 6 8 8 \n",
            "\n",
            "7 4 4 9 1 5 8 8 6 1 \n",
            "\n",
            "4 8 3 7 6 6 4 7 5 9 \n",
            "\n",
            "0 3 6 7 4 3 0 3 4 3 \n",
            "\n",
            "4 0 7 9 2 1 7 7 6 7 \n",
            "\n",
            "0 3 3 5 2 0 7 9 0 7 \n",
            "\n"
          ]
        }
      ]
    },
    {
      "cell_type": "markdown",
      "source": [
        "2. If the random number is an odd number, print \"@\" instead. like the following:"
      ],
      "metadata": {
        "id": "2AO7JAt98s1a"
      }
    },
    {
      "cell_type": "code",
      "source": [
        "ran_num = []\n",
        "for i in range(100):\n",
        "  num = random.randint(0,9)\n",
        "  if num % 2 == 0:\n",
        "    ran_num.append(num)\n",
        "  else :\n",
        "    ran_num.append(\"@\")\n",
        "\n",
        "count=0\n",
        "for i in range(10):\n",
        "    for j in range(10):\n",
        "        print(ran_num[count],\"\", end =\"\")\n",
        "        count+=1\n",
        "    print(\"\\n\")"
      ],
      "metadata": {
        "colab": {
          "base_uri": "https://localhost:8080/"
        },
        "id": "pacojCzr62fL",
        "outputId": "69fc60e2-2207-425e-90e3-ad7cf4e9ea60"
      },
      "execution_count": null,
      "outputs": [
        {
          "output_type": "stream",
          "name": "stdout",
          "text": [
            "8 2 2 @ @ @ 0 @ 2 @ \n",
            "\n",
            "2 2 @ @ @ 6 6 @ @ 8 \n",
            "\n",
            "8 @ @ 8 8 @ 0 @ 0 @ \n",
            "\n",
            "4 @ @ @ 6 @ 8 8 @ 6 \n",
            "\n",
            "@ @ @ 0 8 @ 2 8 2 @ \n",
            "\n",
            "@ @ 2 0 6 6 @ 0 2 @ \n",
            "\n",
            "8 8 8 8 2 8 2 4 2 6 \n",
            "\n",
            "@ 2 @ @ 8 0 @ 0 6 8 \n",
            "\n",
            "@ @ 8 8 6 @ @ @ 4 4 \n",
            "\n",
            "0 @ 4 4 4 2 @ @ @ 8 \n",
            "\n"
          ]
        }
      ]
    },
    {
      "cell_type": "markdown",
      "source": [
        "3. Calculate and Print the total of each row like the following (use \"*\" to separate the total from the numbers):"
      ],
      "metadata": {
        "id": "yUX7maF9-WQk"
      }
    },
    {
      "cell_type": "code",
      "source": [
        "ran_num = []\n",
        "\n",
        "for i in range(100):\n",
        "  ran_num.append(random.randint(0,9))\n",
        "\n",
        "count=0\n",
        "for i in range(10):\n",
        "    sum=0\n",
        "    for j in range(10):\n",
        "        print(ran_num[count],\"\", end =\"\")\n",
        "        sum+=ran_num[count]\n",
        "        count+=1\n",
        "    print(\"*\",sum,\"\\n\")"
      ],
      "metadata": {
        "colab": {
          "base_uri": "https://localhost:8080/"
        },
        "id": "ulh9TSQk-NAU",
        "outputId": "dd041375-a307-4136-bc6e-cb486074f112"
      },
      "execution_count": null,
      "outputs": [
        {
          "output_type": "stream",
          "name": "stdout",
          "text": [
            "8 6 3 9 3 3 3 8 7 4 * 54 \n",
            "\n",
            "8 5 8 4 0 8 4 7 9 1 * 54 \n",
            "\n",
            "2 9 6 4 8 9 0 8 0 5 * 51 \n",
            "\n",
            "2 5 3 6 8 3 7 6 5 6 * 51 \n",
            "\n",
            "7 9 9 0 5 5 9 1 0 1 * 46 \n",
            "\n",
            "8 6 1 5 5 3 1 7 3 6 * 45 \n",
            "\n",
            "9 2 3 7 7 7 4 5 8 8 * 60 \n",
            "\n",
            "8 9 8 5 5 8 1 4 0 3 * 51 \n",
            "\n",
            "1 8 7 7 2 7 6 7 1 7 * 53 \n",
            "\n",
            "5 8 4 9 8 4 9 3 6 5 * 61 \n",
            "\n"
          ]
        }
      ]
    },
    {
      "cell_type": "markdown",
      "source": [
        "4. Surround the matrix with asterisks (*) like the following:"
      ],
      "metadata": {
        "id": "-khyB7zN_x5z"
      }
    },
    {
      "cell_type": "code",
      "source": [
        "ran_num = []\n",
        "\n",
        "for i in range(100):\n",
        "  ran_num.append(random.randint(0,9))\n",
        "\n",
        "for i in range(22):\n",
        "  print(\"*\", end = \"\" )\n",
        "print(\"\")\n",
        "\n",
        "count = 0\n",
        "for i in range(10):\n",
        "    print(\"*\", end=\"\")\n",
        "    for j in range(10):\n",
        "        print(ran_num[count],\"\", end =\"\")\n",
        "        count+=1\n",
        "    print(\"*\",\" \")\n",
        "\n",
        "for i in range(22):\n",
        "  print(\"*\", end = \"\" )\n",
        "print(\"\")\n"
      ],
      "metadata": {
        "colab": {
          "base_uri": "https://localhost:8080/"
        },
        "id": "MyPeDSxw_PkX",
        "outputId": "5379f20d-4baf-4a56-93cc-36f47d07e56e"
      },
      "execution_count": null,
      "outputs": [
        {
          "output_type": "stream",
          "name": "stdout",
          "text": [
            "**********************\n",
            "*1 8 9 2 8 9 4 0 7 1 *  \n",
            "*5 7 1 2 9 1 1 4 9 2 *  \n",
            "*1 8 3 5 6 6 5 8 5 9 *  \n",
            "*4 0 1 7 4 6 1 5 2 7 *  \n",
            "*2 3 2 9 6 8 0 6 3 0 *  \n",
            "*1 1 6 0 6 2 4 0 0 6 *  \n",
            "*6 9 1 1 9 9 4 4 8 2 *  \n",
            "*6 7 1 7 3 6 4 7 4 4 *  \n",
            "*4 0 7 4 0 2 8 8 9 6 *  \n",
            "*4 1 4 5 9 8 4 6 3 8 *  \n",
            "**********************\n"
          ]
        }
      ]
    },
    {
      "cell_type": "markdown",
      "source": [
        "5. Calculate and Print the total of each row and column like the following:"
      ],
      "metadata": {
        "id": "IXMXowCFClpG"
      }
    },
    {
      "cell_type": "code",
      "source": [
        "ran_num = []\n",
        "\n",
        "for i in range(100):\n",
        "  ran_num.append(random.randint(0,9))\n",
        "\n",
        "count=0\n",
        "for i in range(10):\n",
        "    sum=0\n",
        "    for j in range(10):\n",
        "        print(ran_num[count],\"\", end =\" \")\n",
        "        sum+=ran_num[count]\n",
        "        count+=1\n",
        "    print(\"*\",sum,\"\\n\")\n",
        "\n",
        "for i in range(10):\n",
        "    print(\"*\",\" \", end=\"\")\n",
        "print(\"\")\n",
        "\n",
        "sum_vertical=[]\n",
        "for i in range(10):\n",
        "    num_range=range(i,100,10)\n",
        "    sum=0\n",
        "    for j in list(num_range):\n",
        "        sum+=ran_num[j]\n",
        "    sum_vertical.append(sum)\n",
        "\n",
        "for i in range(10):\n",
        "    print(sum_vertical[i],\"\", end=\"\")\n",
        "print(\"\")"
      ],
      "metadata": {
        "colab": {
          "base_uri": "https://localhost:8080/"
        },
        "id": "DlQ6t5xeAcQe",
        "outputId": "c24529b6-9093-4515-c3d7-c41765ab2954"
      },
      "execution_count": null,
      "outputs": [
        {
          "output_type": "stream",
          "name": "stdout",
          "text": [
            "0  6  2  3  7  7  4  3  9  9  * 50 \n",
            "\n",
            "9  9  6  2  5  4  6  4  9  3  * 57 \n",
            "\n",
            "7  9  0  2  3  7  0  3  5  6  * 42 \n",
            "\n",
            "0  3  4  6  2  7  9  0  9  2  * 42 \n",
            "\n",
            "5  6  4  3  5  2  2  4  6  3  * 40 \n",
            "\n",
            "4  9  8  7  4  8  7  8  0  5  * 60 \n",
            "\n",
            "3  5  0  5  4  2  1  6  4  4  * 34 \n",
            "\n",
            "0  9  5  1  0  5  5  3  6  9  * 43 \n",
            "\n",
            "9  1  4  6  9  8  0  8  4  5  * 54 \n",
            "\n",
            "5  9  2  8  8  0  2  5  3  0  * 42 \n",
            "\n",
            "*  *  *  *  *  *  *  *  *  *  \n",
            "42 66 35 43 47 50 36 44 55 46 \n"
          ]
        }
      ]
    },
    {
      "cell_type": "code",
      "source": [],
      "metadata": {
        "id": "I5FJ2hFZG25m"
      },
      "execution_count": null,
      "outputs": []
    }
  ]
}