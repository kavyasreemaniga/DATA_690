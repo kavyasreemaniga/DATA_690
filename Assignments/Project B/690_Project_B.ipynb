{
  "nbformat": 4,
  "nbformat_minor": 0,
  "metadata": {
    "colab": {
      "provenance": [],
      "authorship_tag": "ABX9TyPl4Lsfi96vmXOlDqBjeNsQ",
      "include_colab_link": true
    },
    "kernelspec": {
      "name": "python3",
      "display_name": "Python 3"
    },
    "language_info": {
      "name": "python"
    }
  },
  "cells": [
    {
      "cell_type": "markdown",
      "metadata": {
        "id": "view-in-github",
        "colab_type": "text"
      },
      "source": [
        "<a href=\"https://colab.research.google.com/github/kavyasreemaniga/DATA_690/blob/main/Assignments/Project%20B/690_Project_B.ipynb\" target=\"_parent\"><img src=\"https://colab.research.google.com/assets/colab-badge.svg\" alt=\"Open In Colab\"/></a>"
      ]
    },
    {
      "cell_type": "markdown",
      "source": [
        "## Economy & Growth"
      ],
      "metadata": {
        "id": "N_zYbheUl3Xl"
      }
    },
    {
      "cell_type": "markdown",
      "source": [
        "### Requirement A - You compare different countries and show similarities/differences and describe your analysis Use Bar/pie charts Pick one year"
      ],
      "metadata": {
        "id": "iqKmozh5pxbH"
      }
    },
    {
      "cell_type": "markdown",
      "source": [
        "*   Data Source : https://www.worlddev.xyz/\n",
        "*   Topics : Economy and Growth\n",
        "*   Countries : Azerbaijan, Bhutan, Switzerland, Algeria and Ethiopia\n",
        "*   Time plot between : 2005 to 2021\n",
        "\n",
        "\n",
        "\n"
      ],
      "metadata": {
        "id": "4P3IXljNrrrO"
      }
    },
    {
      "cell_type": "code",
      "source": [
        "import pandas as pd\n",
        "import plotly.express as px"
      ],
      "metadata": {
        "id": "RLGDRWW_l4v1"
      },
      "execution_count": 1,
      "outputs": []
    },
    {
      "cell_type": "code",
      "source": [
        "df = pd.read_csv(\"https://raw.githubusercontent.com/wcj365/python-stats-dataviz/master/assignments/assignment_07_world_dev/world_devlopment_indicator.csv\")"
      ],
      "metadata": {
        "id": "OzlB-4cFqkDi"
      },
      "execution_count": 2,
      "outputs": []
    },
    {
      "cell_type": "code",
      "source": [],
      "metadata": {
        "id": "regRsvTrqqw3"
      },
      "execution_count": null,
      "outputs": []
    }
  ]
}