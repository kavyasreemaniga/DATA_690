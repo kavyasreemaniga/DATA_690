{
  "nbformat": 4,
  "nbformat_minor": 0,
  "metadata": {
    "colab": {
      "provenance": [],
      "collapsed_sections": [],
      "authorship_tag": "ABX9TyOkjXFisysPeikIxki1ToMS",
      "include_colab_link": true
    },
    "kernelspec": {
      "name": "python3",
      "display_name": "Python 3"
    },
    "language_info": {
      "name": "python"
    }
  },
  "cells": [
    {
      "cell_type": "markdown",
      "metadata": {
        "id": "view-in-github",
        "colab_type": "text"
      },
      "source": [
        "<a href=\"https://colab.research.google.com/github/kavyasreemaniga/DATA_690/blob/main/assignment_02.ipynb\" target=\"_parent\"><img src=\"https://colab.research.google.com/assets/colab-badge.svg\" alt=\"Open In Colab\"/></a>"
      ]
    },
    {
      "cell_type": "markdown",
      "source": [
        "#Assignment 2\n",
        "\n",
        "---\n",
        "\n",
        "#Requirements"
      ],
      "metadata": {
        "id": "-6pyMOtuidov"
      }
    },
    {
      "cell_type": "markdown",
      "source": [
        "\n",
        "\n",
        "*   Prompt a user to enter 10 integers.\n",
        "*   If the user enters anything other than integers, remind her that only integers are allowed and let her retry.\n",
        "Note: You need to detect if the user makes a mistake and let the user retry without exiting the program. The previously entered valid inputs should be kept and not lost.\n",
        "*    Don't allow the user to enter more than 10 or less than 10 integers.\n",
        "Display the 10 integers back to the user at the end\n",
        "\n",
        "\n"
      ],
      "metadata": {
        "id": "Z_Ps11D6jF_s"
      }
    },
    {
      "cell_type": "code",
      "source": [
        "i = 1\n",
        "list_1 = []\n",
        "while i <= 10 :\n",
        "  try:\n",
        "    x = int(input(\"Enter an integer: \"))\n",
        "    list_1.append(x)\n",
        "    i = i + 1\n",
        "  except:\n",
        "    print(\"Please enter an interger. Try again\")\n",
        "\n",
        "print(\"Entered integer values are: \", list_1)  "
      ],
      "metadata": {
        "id": "cb9S0rFHifWJ",
        "colab": {
          "base_uri": "https://localhost:8080/"
        },
        "outputId": "c862ac5e-7911-4af1-e67d-65f3c2c39e8b"
      },
      "execution_count": 5,
      "outputs": [
        {
          "output_type": "stream",
          "name": "stdout",
          "text": [
            "Enter an integer: 1\n",
            "Enter an integer: 2\n",
            "Enter an integer: 43\n",
            "Enter an integer: 51\n",
            "Enter an integer: 32\n",
            "Enter an integer: 8\n",
            "Enter an integer: 54\n",
            "Enter an integer: 18\n",
            "Enter an integer: 09\n",
            "Enter an integer: 56\n",
            "Entered integer values are:  [1, 2, 43, 51, 32, 8, 54, 18, 9, 56]\n"
          ]
        }
      ]
    },
    {
      "cell_type": "markdown",
      "source": [
        "\n",
        "\n",
        "*   Calculate the following statistics from the 10 integers entered and display the results back to the user"
      ],
      "metadata": {
        "id": "ZCdbkJNDvT1j"
      }
    },
    {
      "cell_type": "markdown",
      "source": [
        "### Minimum & Maximum"
      ],
      "metadata": {
        "id": "iJFkAY4rxk8H"
      }
    },
    {
      "cell_type": "code",
      "source": [
        "minnum = maxnum = list_1[0]\n",
        "for j in range(1, len(list_1)):\n",
        "    if(minnum > list_1[j]):\n",
        "        minnum = list_1[j]\n",
        "        min_position = j\n",
        "    if(maxnum < list_1[j]):\n",
        "        maxnum = list_1[j]\n",
        "        max_position = j"
      ],
      "metadata": {
        "id": "rOPxrrJbuir7"
      },
      "execution_count": 15,
      "outputs": []
    },
    {
      "cell_type": "code",
      "source": [
        "print(\"The Smallest Element in this List is : \", minnum)\n",
        " \n",
        "print(\"The Largest Element in this List is : \", maxnum)\n",
        "\n"
      ],
      "metadata": {
        "colab": {
          "base_uri": "https://localhost:8080/"
        },
        "id": "J6EzlqifwVQC",
        "outputId": "4cb1ee5a-d179-4f8e-d0c6-2fa296788de0"
      },
      "execution_count": 16,
      "outputs": [
        {
          "output_type": "stream",
          "name": "stdout",
          "text": [
            "The Smallest Element in this List is :  1\n",
            "The Largest Element in this List is :  56\n"
          ]
        }
      ]
    },
    {
      "cell_type": "markdown",
      "source": [
        "### Range"
      ],
      "metadata": {
        "id": "-URwJKyfxreB"
      }
    },
    {
      "cell_type": "code",
      "source": [
        "Range = maxnum - minnum\n",
        "print('The range of the list is:',Range)"
      ],
      "metadata": {
        "colab": {
          "base_uri": "https://localhost:8080/"
        },
        "id": "83BJYwiAw4QM",
        "outputId": "a2cd29c0-a216-473d-fc84-d2bcca68fd56"
      },
      "execution_count": 17,
      "outputs": [
        {
          "output_type": "stream",
          "name": "stdout",
          "text": [
            "The range of the list is: 55\n"
          ]
        }
      ]
    },
    {
      "cell_type": "markdown",
      "source": [
        "### Mean, Variance and Standard Deviation"
      ],
      "metadata": {
        "id": "IyhbM1tYyOdy"
      }
    },
    {
      "cell_type": "code",
      "source": [
        "sum = 0\n",
        "for i in range(1, len(list_1)):\n",
        "  sum = sum + list_1[i]\n",
        "\n",
        "mean = sum/len(list_1)\n",
        "\n",
        "print(\"Mean value of integers: \", mean)"
      ],
      "metadata": {
        "colab": {
          "base_uri": "https://localhost:8080/"
        },
        "id": "kHqWs96qx5aL",
        "outputId": "930a6e66-f979-4422-d03e-6065024e6a92"
      },
      "execution_count": 19,
      "outputs": [
        {
          "output_type": "stream",
          "name": "stdout",
          "text": [
            "Mean value of integers:  27.3\n"
          ]
        }
      ]
    },
    {
      "cell_type": "code",
      "source": [
        "tot_sqr=0\n",
        "for i in range(len(list_1)):\n",
        "    y=mean-list_1[i]\n",
        "    sqr= y*y\n",
        "    tot_sqr=tot_sqr+sqr\n",
        "\n",
        "variance=tot_sqr/len(list_1)\n",
        "print(\"Variance of the list:\",variance)    "
      ],
      "metadata": {
        "colab": {
          "base_uri": "https://localhost:8080/"
        },
        "id": "u8DP2mjnypOI",
        "outputId": "539b2ccf-d400-4360-c90a-100dff6cb268"
      },
      "execution_count": 20,
      "outputs": [
        {
          "output_type": "stream",
          "name": "stdout",
          "text": [
            "Variance of the list: 449.25\n"
          ]
        }
      ]
    },
    {
      "cell_type": "code",
      "source": [
        "Std = variance ** 0.5\n",
        "print(\"Standard deviation: \", Std)"
      ],
      "metadata": {
        "colab": {
          "base_uri": "https://localhost:8080/"
        },
        "id": "U8ybrOIT2qJP",
        "outputId": "f018f54b-574e-4f95-e21d-85bb73a74b00"
      },
      "execution_count": 24,
      "outputs": [
        {
          "output_type": "stream",
          "name": "stdout",
          "text": [
            "Standard deviation:  21.195518394226642\n"
          ]
        }
      ]
    },
    {
      "cell_type": "code",
      "source": [],
      "metadata": {
        "id": "qx4jeW0O24sb"
      },
      "execution_count": null,
      "outputs": []
    }
  ]
}