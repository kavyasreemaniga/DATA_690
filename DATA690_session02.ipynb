{
  "nbformat": 4,
  "nbformat_minor": 0,
  "metadata": {
    "colab": {
      "provenance": [],
      "authorship_tag": "ABX9TyOnan5gpTkuE2B8eB/HJmBr",
      "include_colab_link": true
    },
    "kernelspec": {
      "name": "python3",
      "display_name": "Python 3"
    },
    "language_info": {
      "name": "python"
    }
  },
  "cells": [
    {
      "cell_type": "markdown",
      "metadata": {
        "id": "view-in-github",
        "colab_type": "text"
      },
      "source": [
        "<a href=\"https://colab.research.google.com/github/kavyasreemaniga/DATA_690/blob/main/DATA690_session02.ipynb\" target=\"_parent\"><img src=\"https://colab.research.google.com/assets/colab-badge.svg\" alt=\"Open In Colab\"/></a>"
      ]
    },
    {
      "cell_type": "markdown",
      "source": [
        "# Session 02"
      ],
      "metadata": {
        "id": "4g0pSvaVdrXB"
      }
    },
    {
      "cell_type": "code",
      "source": [
        "years = \"1/11/1997 1991 2000 1969 1999 1998 1993 1996 1999 1997 1996 1998 1995 1999 1999 1997 1996 1996 1997 1995 1997 1999 2000\"\n",
        "\n",
        "print(\"Birth years of students\", years)"
      ],
      "metadata": {
        "colab": {
          "base_uri": "https://localhost:8080/"
        },
        "id": "5J5xGCqfdm4n",
        "outputId": "e012efe5-4895-48bc-df54-3e1b16ad3e50"
      },
      "execution_count": 5,
      "outputs": [
        {
          "output_type": "stream",
          "name": "stdout",
          "text": [
            "Birth years of students 1/11/1997 1991 2000 1969 1999 1998 1993 1996 1999 1997 1996 1998 1995 1999 1999 1997 1996 1996 1997 1995 1997 1999 2000\n"
          ]
        }
      ]
    },
    {
      "cell_type": "code",
      "source": [
        "type(years)"
      ],
      "metadata": {
        "colab": {
          "base_uri": "https://localhost:8080/"
        },
        "id": "_5bvcHHKdtam",
        "outputId": "b90ed452-d840-4bd6-ce9a-f227d9a5e46f"
      },
      "execution_count": 6,
      "outputs": [
        {
          "output_type": "execute_result",
          "data": {
            "text/plain": [
              "str"
            ]
          },
          "metadata": {},
          "execution_count": 6
        }
      ]
    },
    {
      "cell_type": "code",
      "source": [
        "years.split(\" \")"
      ],
      "metadata": {
        "colab": {
          "base_uri": "https://localhost:8080/"
        },
        "id": "gE4YDh6tfX9O",
        "outputId": "0ac3b8ed-59e4-4862-fcdf-fbfff38fb239"
      },
      "execution_count": 7,
      "outputs": [
        {
          "output_type": "execute_result",
          "data": {
            "text/plain": [
              "['1/11/1997',\n",
              " '1991',\n",
              " '2000',\n",
              " '1969',\n",
              " '1999',\n",
              " '1998',\n",
              " '1993',\n",
              " '1996',\n",
              " '1999',\n",
              " '1997',\n",
              " '1996',\n",
              " '1998',\n",
              " '1995',\n",
              " '1999',\n",
              " '1999',\n",
              " '1997',\n",
              " '1996',\n",
              " '1996',\n",
              " '1997',\n",
              " '1995',\n",
              " '1997',\n",
              " '1999',\n",
              " '2000']"
            ]
          },
          "metadata": {},
          "execution_count": 7
        }
      ]
    },
    {
      "cell_type": "code",
      "source": [
        "years_list = years.split(\" \")\n",
        "\n",
        "print(years_list)"
      ],
      "metadata": {
        "colab": {
          "base_uri": "https://localhost:8080/"
        },
        "id": "T8UNXcf2fjV1",
        "outputId": "39c8000f-52d4-46e4-e8d3-a56e813d6735"
      },
      "execution_count": 8,
      "outputs": [
        {
          "output_type": "stream",
          "name": "stdout",
          "text": [
            "['1/11/1997', '1991', '2000', '1969', '1999', '1998', '1993', '1996', '1999', '1997', '1996', '1998', '1995', '1999', '1999', '1997', '1996', '1996', '1997', '1995', '1997', '1999', '2000']\n"
          ]
        }
      ]
    },
    {
      "cell_type": "code",
      "source": [
        "y = [-2.5, 0, 10, 45, -11]"
      ],
      "metadata": {
        "id": "-bj55Fe1f-mJ"
      },
      "execution_count": 13,
      "outputs": []
    },
    {
      "cell_type": "code",
      "source": [
        "total = 0 \n",
        "for number in y:\n",
        "  total = total + number\n",
        "\n",
        "print(\"Sum of y: \", total)\n",
        "\n",
        "print(\"Size of y:\", len(y))\n",
        "\n",
        "print(\"Average of y: \", total/len(y))"
      ],
      "metadata": {
        "colab": {
          "base_uri": "https://localhost:8080/"
        },
        "id": "ZHQ1wO30gy-p",
        "outputId": "754d0409-642c-4221-be21-2e6695a2873a"
      },
      "execution_count": 16,
      "outputs": [
        {
          "output_type": "stream",
          "name": "stdout",
          "text": [
            "Sum of y:  41.5\n",
            "Size of y: 5\n",
            "Average of y:  8.3\n"
          ]
        }
      ]
    },
    {
      "cell_type": "code",
      "source": [
        "years_list[1]"
      ],
      "metadata": {
        "colab": {
          "base_uri": "https://localhost:8080/",
          "height": 36
        },
        "id": "-fOqRXFRg9dV",
        "outputId": "42b36205-51e1-4d3a-801e-d88a83aa0e6c"
      },
      "execution_count": 17,
      "outputs": [
        {
          "output_type": "execute_result",
          "data": {
            "text/plain": [
              "'1991'"
            ],
            "application/vnd.google.colaboratory.intrinsic+json": {
              "type": "string"
            }
          },
          "metadata": {},
          "execution_count": 17
        }
      ]
    },
    {
      "cell_type": "code",
      "source": [
        "years_list.pop(0)"
      ],
      "metadata": {
        "colab": {
          "base_uri": "https://localhost:8080/",
          "height": 36
        },
        "id": "fhBdf88bmFZp",
        "outputId": "166e0f50-c485-4e0b-b604-f1710783d750"
      },
      "execution_count": 21,
      "outputs": [
        {
          "output_type": "execute_result",
          "data": {
            "text/plain": [
              "'1/11/1997'"
            ],
            "application/vnd.google.colaboratory.intrinsic+json": {
              "type": "string"
            }
          },
          "metadata": {},
          "execution_count": 21
        }
      ]
    },
    {
      "cell_type": "code",
      "source": [],
      "metadata": {
        "id": "LXH5tR6rmKAm"
      },
      "execution_count": null,
      "outputs": []
    },
    {
      "cell_type": "code",
      "source": [
        "years_list"
      ],
      "metadata": {
        "colab": {
          "base_uri": "https://localhost:8080/"
        },
        "id": "HUrz045JmKRN",
        "outputId": "c761ed14-1181-40c0-ec20-ffa906a7d325"
      },
      "execution_count": 22,
      "outputs": [
        {
          "output_type": "execute_result",
          "data": {
            "text/plain": [
              "['1991',\n",
              " '2000',\n",
              " '1969',\n",
              " '1999',\n",
              " '1998',\n",
              " '1993',\n",
              " '1996',\n",
              " '1999',\n",
              " '1997',\n",
              " '1996',\n",
              " '1998',\n",
              " '1995',\n",
              " '1999',\n",
              " '1999',\n",
              " '1997',\n",
              " '1996',\n",
              " '1996',\n",
              " '1997',\n",
              " '1995',\n",
              " '1997',\n",
              " '1999',\n",
              " '2000']"
            ]
          },
          "metadata": {},
          "execution_count": 22
        }
      ]
    },
    {
      "cell_type": "code",
      "source": [
        "from datetime import date\n",
        "\n",
        "current_year = date.today().year\n",
        "\n",
        "print(current_year)\n",
        "\n",
        "total = 0\n",
        "for birth_year in years_list:\n",
        "  age = current_year - int(birth_year)\n",
        "  total = total + age\n",
        "\n",
        "\n",
        "print(total)"
      ],
      "metadata": {
        "colab": {
          "base_uri": "https://localhost:8080/"
        },
        "id": "T_fUQ8AEiNLs",
        "outputId": "bc5c364f-8da4-4d4d-ce71-41c066e0a57d"
      },
      "execution_count": 33,
      "outputs": [
        {
          "output_type": "stream",
          "name": "stdout",
          "text": [
            "2022\n",
            "603\n"
          ]
        }
      ]
    },
    {
      "cell_type": "code",
      "source": [
        "avg_age = total/len(years_list)\n",
        "\n",
        "print(avg_age)"
      ],
      "metadata": {
        "colab": {
          "base_uri": "https://localhost:8080/"
        },
        "id": "-FrMkdMstz9A",
        "outputId": "4df591c5-d6ed-463a-fd82-f5b147d41cb8"
      },
      "execution_count": 34,
      "outputs": [
        {
          "output_type": "stream",
          "name": "stdout",
          "text": [
            "26.217391304347824\n"
          ]
        }
      ]
    },
    {
      "cell_type": "markdown",
      "source": [
        "## Approach 02 - fix data problem"
      ],
      "metadata": {
        "id": "-74E8yDvshrH"
      }
    },
    {
      "cell_type": "code",
      "source": [
        "years = \"1/11/1997 1991 2000 1969 1999 1998 1993 1996 1999 1997 1996 1998 1995 1999 1999 1997 1996 1996 1997 1995 1997 1999 2000\"\n",
        "\n",
        "print(\"Birth years of students\", years)"
      ],
      "metadata": {
        "colab": {
          "base_uri": "https://localhost:8080/"
        },
        "id": "lxTLzzn1lKCj",
        "outputId": "8dbb7d92-a5af-43b0-d155-db984dfb67d7"
      },
      "execution_count": 25,
      "outputs": [
        {
          "output_type": "stream",
          "name": "stdout",
          "text": [
            "Birth years of students 1/11/1997 1991 2000 1969 1999 1998 1993 1996 1999 1997 1996 1998 1995 1999 1999 1997 1996 1996 1997 1995 1997 1999 2000\n"
          ]
        }
      ]
    },
    {
      "cell_type": "code",
      "source": [
        "years_list = years.split()\n",
        "print(years_list)"
      ],
      "metadata": {
        "colab": {
          "base_uri": "https://localhost:8080/"
        },
        "id": "g-qUTAJyspd1",
        "outputId": "0587a6aa-2ae2-457c-e9bc-7d9398e2b8ba"
      },
      "execution_count": 26,
      "outputs": [
        {
          "output_type": "stream",
          "name": "stdout",
          "text": [
            "['1/11/1997', '1991', '2000', '1969', '1999', '1998', '1993', '1996', '1999', '1997', '1996', '1998', '1995', '1999', '1999', '1997', '1996', '1996', '1997', '1995', '1997', '1999', '2000']\n"
          ]
        }
      ]
    },
    {
      "cell_type": "code",
      "source": [
        "years_list[0] = '1997'"
      ],
      "metadata": {
        "id": "oqKZKT8WsusN"
      },
      "execution_count": 27,
      "outputs": []
    },
    {
      "cell_type": "code",
      "source": [
        "x = \" wbgfjergbergejrge \"\n",
        "y = ' hfjhrbge \" \" '\n",
        "y"
      ],
      "metadata": {
        "colab": {
          "base_uri": "https://localhost:8080/",
          "height": 36
        },
        "id": "cDdZjsSfszBz",
        "outputId": "0830ed00-ee21-4f63-e201-450318669fe3"
      },
      "execution_count": 32,
      "outputs": [
        {
          "output_type": "execute_result",
          "data": {
            "text/plain": [
              "' hfjhrbge \" \" '"
            ],
            "application/vnd.google.colaboratory.intrinsic+json": {
              "type": "string"
            }
          },
          "metadata": {},
          "execution_count": 32
        }
      ]
    },
    {
      "cell_type": "markdown",
      "source": [
        "## Approach 03 - Handle exception"
      ],
      "metadata": {
        "id": "DasWNmzjuL04"
      }
    },
    {
      "cell_type": "code",
      "source": [
        "years = \"1/11/1997 1991 2000 1969 1999 1998 1993 1996 1999 1997 1996 1998 1995 1999 1999 1997 1996 1996 1997 1995 1997 1999 2000\"\n",
        "\n",
        "print(\"Birth years of students\", years)"
      ],
      "metadata": {
        "colab": {
          "base_uri": "https://localhost:8080/"
        },
        "id": "ncD31rFCtY42",
        "outputId": "125e9cee-53ea-4cad-bebe-b356c63dded4"
      },
      "execution_count": 35,
      "outputs": [
        {
          "output_type": "stream",
          "name": "stdout",
          "text": [
            "Birth years of students 1/11/1997 1991 2000 1969 1999 1998 1993 1996 1999 1997 1996 1998 1995 1999 1999 1997 1996 1996 1997 1995 1997 1999 2000\n"
          ]
        }
      ]
    },
    {
      "cell_type": "code",
      "source": [
        "from datetime import date\n",
        "\n",
        "current_year = date.today().year\n",
        "\n",
        "print(current_year)\n",
        "\n",
        "total = 0\n",
        "count = 0\n",
        "for birth_year in years_list:\n",
        "\n",
        "  try:\n",
        "    year_int = int(birth_year)\n",
        "  except:\n",
        "    continue\n",
        "\n",
        "  age = current_year - year_int\n",
        "  total = total + age\n",
        "  count = count + 1\n",
        "\n",
        "\n",
        "print(\"total age is:\", total)\n",
        "print(\"No.of students: \", count)"
      ],
      "metadata": {
        "colab": {
          "base_uri": "https://localhost:8080/"
        },
        "id": "Aw21pzE5wUll",
        "outputId": "0391ef0e-674d-424a-cacf-99784f90d0ac"
      },
      "execution_count": 37,
      "outputs": [
        {
          "output_type": "stream",
          "name": "stdout",
          "text": [
            "2022\n",
            "total age is: 603\n",
            "No.of students:  23\n"
          ]
        }
      ]
    },
    {
      "cell_type": "markdown",
      "source": [
        "## Misc"
      ],
      "metadata": {
        "id": "4kOSPZBOzdd2"
      }
    },
    {
      "cell_type": "code",
      "source": [
        "count = 0\n",
        "while True:\n",
        "\n",
        "  if count == 5:\n",
        "    break\n",
        "    \n",
        "  try:\n",
        "    x = int(input(\"Enter an integer:\"))\n",
        "  except:\n",
        "    print(\"Please enter an interger. Try again\")"
      ],
      "metadata": {
        "colab": {
          "base_uri": "https://localhost:8080/"
        },
        "id": "00HdIVPLwv2_",
        "outputId": "120ec185-e31c-41be-e34c-068a0982b440"
      },
      "execution_count": null,
      "outputs": [
        {
          "output_type": "stream",
          "name": "stdout",
          "text": [
            "Enter an integer:abc\n",
            "Please enter an interger. Try again\n",
            "Enter an integer:10\n",
            "Please enter an interger. Try again\n",
            "Please enter an interger. Try again\n"
          ]
        }
      ]
    },
    {
      "cell_type": "code",
      "source": [],
      "metadata": {
        "id": "FvbB3QTxzrE0"
      },
      "execution_count": null,
      "outputs": []
    }
  ]
}